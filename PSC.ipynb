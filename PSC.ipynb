{
 "cells": [
  {
   "cell_type": "code",
   "execution_count": 10,
   "metadata": {},
   "outputs": [],
   "source": [
    "from keras.models import Sequential\n",
    "from keras.layers.convolutional import Conv2D, MaxPooling2D\n",
    "from keras.layers.core import Activation, Flatten, Dense\n",
    "from sklearn.model_selection import GridSearchCV\n",
    "from keras.layers import BatchNormalization\n",
    "from keras.wrappers.scikit_learn import KerasClassifier\n",
    "from keras.preprocessing.image import ImageDataGenerator, array_to_img, img_to_array, load_img\n",
    "from keras.optimizers import Adam, SGD, RMSprop, Adagrad, Adadelta\n",
    "from sklearn.model_selection import train_test_split\n",
    "import numpy as np\n",
    "import random\n",
    "import os\n",
    "import sys\n",
    "import cv2\n",
    "from keras.utils import to_categorical\n",
    "import matplotlib\n",
    "from subprocess import check_output"
   ]
  },
  {
   "cell_type": "code",
   "execution_count": 12,
   "metadata": {},
   "outputs": [],
   "source": [
    "def classes_to_int(label):\n",
    "    # label = classes.index(dir)\n",
    "    label = label.strip()\n",
    "    if label == \"Black-grass\":  return 0\n",
    "    if label == \"Charlock\":  return 1\n",
    "    if label == \"Cleavers\":  return 2\n",
    "    if label == \"Common Chickweed\":  return 3\n",
    "    if label == \"Common wheat\":  return 4\n",
    "    if label == \"Fat Hen\":  return 5\n",
    "    if label == \"Loose Silky-bent\": return 6\n",
    "    if label == \"Maize\":  return 7\n",
    "    if label == \"Scentless Mayweed\": return 8\n",
    "    if label == \"Shepherds Purse\": return 9\n",
    "    if label == \"Small-flowered Cranesbill\": return 10\n",
    "    if label == \"Sugar beet\": return 11\n",
    "    print(\"Invalid Label\", label)\n",
    "    return 12"
   ]
  },
  {
   "cell_type": "code",
   "execution_count": 13,
   "metadata": {},
   "outputs": [],
   "source": [
    "def int_to_classes(i):\n",
    "    if i == 0: return \"Black-grass\"\n",
    "    elif i == 1: return \"Charlock\"\n",
    "    elif i == 2: return \"Cleavers\"\n",
    "    elif i == 3: return \"Common Chickweed\"\n",
    "    elif i == 4: return \"Common wheat\"\n",
    "    elif i == 5: return \"Fat Hen\"\n",
    "    elif i == 6: return \"Loose Silky-bent\"\n",
    "    elif i == 7: return \"Maize\"\n",
    "    elif i == 8: return \"Scentless Mayweed\"\n",
    "    elif i == 9: return \"Shepherds Purse\"\n",
    "    elif i == 10: return \"Small-flowered Cranesbill\"\n",
    "    elif i == 11: return \"Sugar beet\"\n",
    "    print(\"Invalid class \", i)\n",
    "    return \"Invalid Class\""
   ]
  },
  {
   "cell_type": "code",
   "execution_count": 14,
   "metadata": {},
   "outputs": [],
   "source": [
    "#1.Read the images and generate the train and test dataset (5 points)\n",
    "NUM_CLASSES = 12\n",
    "# we need images of same size so we convert them into the size\n",
    "WIDTH = 128\n",
    "HEIGHT = 128\n",
    "DEPTH = 3\n",
    "inputShape = (WIDTH, HEIGHT, DEPTH)\n",
    "# initialize number of epochs to train for, initial learning rate and batch size\n",
    "EPOCHS = 25\n",
    "INIT_LR = 1e-3\n",
    "BS = 32\n",
    "\n",
    "def readTrainData(trainDir):\n",
    "    data = []\n",
    "    labels = []\n",
    "    # loop over the input images\n",
    "    dirs = os.listdir(trainDir) \n",
    "    for dir in dirs:\n",
    "        absDirPath = os.path.join(os.path.sep,trainDir, dir)\n",
    "        images = os.listdir(absDirPath)\n",
    "        for imageFileName in images:\n",
    "            # load the image, pre-process it, and store it in the data list\n",
    "            imageFullPath = os.path.join(trainDir, dir, imageFileName)\n",
    "            #print(imageFullPath)\n",
    "            img = load_img(imageFullPath)\n",
    "            arr = img_to_array(img)  # Numpy array with shape (233,233,3)\n",
    "            arr = cv2.resize(arr, (HEIGHT,WIDTH)) #Numpy array with shape (HEIGHT, WIDTH,3)\n",
    "            #print(arr.shape) \n",
    "            data.append(arr)\n",
    "            label = classes_to_int(dir)\n",
    "            labels.append(label)\n",
    "    return data, labels\n"
   ]
  },
  {
   "cell_type": "code",
   "execution_count": 15,
   "metadata": {},
   "outputs": [],
   "source": [
    "def createModel():\n",
    "    model = Sequential()\n",
    "    # first set of CONV => RELU => POOL layers\n",
    "    # The CONV  layer will learn 20 convolution filters, each of which are 5×5.\n",
    "    model.add(Conv2D(32, (3,3), padding=\"same\", input_shape=inputShape))\n",
    "    #model.add(BatchNormalization()) \n",
    "    model.add(Activation(\"relu\"))\n",
    "    model.add(MaxPooling2D(pool_size=(2, 2), strides=(2, 2)))\n",
    "    # second set of CONV => RELU => POOL layers\n",
    "    model.add(Conv2D(64, (3,3), padding=\"same\"))\n",
    "    #model.add(BatchNormalization())\n",
    "    model.add(Activation(\"relu\"))\n",
    "    model.add(MaxPooling2D(pool_size=(2, 2), strides=(2, 2)))\n",
    "    model.add(Conv2D(128, (3,3), padding=\"same\"))\n",
    "    #model.add(BatchNormalization())\n",
    "    model.add(Activation(\"relu\"))\n",
    "    model.add(MaxPooling2D(pool_size=(2, 2), strides=(2, 2)))\n",
    "    model.add(Flatten())\n",
    "    model.add(Dense(units=500))\n",
    "    model.add(Activation(\"relu\"))\n",
    "    model.add(Dense(units=12))\n",
    "    model.add(Activation(\"softmax\"))\n",
    "    opt = Adam(lr=INIT_LR, decay=INIT_LR / EPOCHS)\n",
    "    # use binary_crossentropy if there are two classes\n",
    "    model.compile(loss=\"categorical_crossentropy\", optimizer=opt, metrics=[\"accuracy\"])\n",
    "    return model"
   ]
  },
  {
   "cell_type": "code",
   "execution_count": 16,
   "metadata": {},
   "outputs": [
    {
     "name": "stdout",
     "output_type": "stream",
     "text": [
      "Loading images...\n",
      "Parttition data into 75:25...\n"
     ]
    }
   ],
   "source": [
    "#2.Divide the data set into Train and validation data sets\n",
    "random.seed(10)\n",
    "allLabels =  os.listdir(\"C:\\\\Users\\\\shivaramakrishna\\\\Desktop\\\\updated project\\\\train\\\\train\")  # list of subdirectories and files\n",
    "print(\"Loading images...\")\n",
    "sys.stdout.flush()\n",
    "X, Y = readTrainData(\"C:\\\\Users\\\\shivaramakrishna\\\\Desktop\\\\updated project\\\\train\\\\train\")\n",
    "# scale the raw pixel intensities to the range [0, 1]\n",
    "X = np.array(X, dtype=\"float\") / 255.0\n",
    "Y = np.array(Y)\n",
    "# convert the labels from integers to vectors\n",
    "Y =  to_categorical(Y, num_classes=12)\n",
    "\n",
    "print(\"Parttition data into 75:25...\")\n",
    "sys.stdout.flush()\n",
    "# partition the data into training and testing splits using 75% training and 25% for validation\n",
    "(trainX, valX, trainY, valY) = train_test_split(X,Y,test_size=0.25, random_state=10)"
   ]
  },
  {
   "cell_type": "code",
   "execution_count": 17,
   "metadata": {
    "scrolled": false
   },
   "outputs": [
    {
     "name": "stdout",
     "output_type": "stream",
     "text": [
      "Generating images...\n",
      "compiling model...\n",
      "training network...\n",
      "Epoch 1/10\n",
      "241/241 [==============================] - 121s 502ms/step - loss: 1.6936 - acc: 0.4030 - val_loss: 1.2059 - val_acc: 0.5981\n",
      "Epoch 2/10\n",
      "241/241 [==============================] - 121s 503ms/step - loss: 1.1548 - acc: 0.6030 - val_loss: 0.8810 - val_acc: 0.7049\n",
      "Epoch 3/10\n",
      "241/241 [==============================] - 123s 509ms/step - loss: 0.9069 - acc: 0.6912 - val_loss: 0.7901 - val_acc: 0.7282\n",
      "Epoch 4/10\n",
      "241/241 [==============================] - 121s 500ms/step - loss: 0.7304 - acc: 0.7469 - val_loss: 0.6857 - val_acc: 0.7911\n",
      "Epoch 5/10\n",
      "241/241 [==============================] - 118s 491ms/step - loss: 0.6345 - acc: 0.7870 - val_loss: 0.4722 - val_acc: 0.8536\n",
      "Epoch 6/10\n",
      "241/241 [==============================] - 120s 497ms/step - loss: 0.5324 - acc: 0.8132 - val_loss: 0.4674 - val_acc: 0.8478\n",
      "Epoch 7/10\n",
      "241/241 [==============================] - 118s 489ms/step - loss: 0.4898 - acc: 0.8233 - val_loss: 0.4286 - val_acc: 0.8509\n",
      "Epoch 8/10\n",
      "241/241 [==============================] - 118s 490ms/step - loss: 0.4312 - acc: 0.8524 - val_loss: 0.3664 - val_acc: 0.8738\n",
      "Epoch 9/10\n",
      "241/241 [==============================] - 117s 487ms/step - loss: 0.3861 - acc: 0.8636 - val_loss: 0.3461 - val_acc: 0.8773\n",
      "Epoch 10/10\n",
      "241/241 [==============================] - 118s 492ms/step - loss: 0.3855 - acc: 0.8602 - val_loss: 0.3561 - val_acc: 0.8687\n",
      "Saving model to disk\n"
     ]
    }
   ],
   "source": [
    "#3. Initialize & build the model (10 points)\n",
    "#construct the image generator for data augmentation\n",
    "print(\"Generating images...\")\n",
    "sys.stdout.flush()\n",
    "aug = ImageDataGenerator(rotation_range=30, width_shift_range=0.1, \\\n",
    "    height_shift_range=0.1, shear_range=0.2, zoom_range=0.2,\\\n",
    "    horizontal_flip=True, fill_mode=\"nearest\")\n",
    "# initialize the model\n",
    "print(\"compiling model...\")\n",
    "sys.stdout.flush()\n",
    "model = createModel()\n",
    "# train the network\n",
    "print(\"training network...\")\n",
    "sys.stdout.flush()\n",
    "H = model.fit_generator(aug.flow(trainX, trainY, batch_size=BS), \\\n",
    "    validation_data=(valX, valY), \\\n",
    "    steps_per_epoch=len(trainX) // BS, epochs=10, verbose=1)\n",
    "\n",
    "# save the model to disk\n",
    "print(\"Saving model to disk\")\n",
    "sys.stdout.flush()\n",
    "model.save(\"C:\\\\Users\\\\shivaramakrishna\\\\Desktop\\\\updated project\\\\model.h5\")"
   ]
  },
  {
   "cell_type": "code",
   "execution_count": 5,
   "metadata": {
    "scrolled": false
   },
   "outputs": [],
   "source": [
    "# read test data and find its classification\n",
    "import os\n",
    "from math import modf\n",
    "\n",
    "\n",
    "from keras.models import load_model\n",
    "mymodel = load_model('C:\\\\Users\\\\shivaramakrishna\\\\Desktop\\\\updated project\\\\model.h5')\n",
    "\n",
    "\n",
    "\n",
    "\n"
   ]
  },
  {
   "cell_type": "code",
   "execution_count": 21,
   "metadata": {},
   "outputs": [
    {
     "name": "stdout",
     "output_type": "stream",
     "text": [
      "dict_keys(['val_loss', 'val_acc', 'loss', 'acc'])\n"
     ]
    }
   ],
   "source": [
    "print(H.history.keys())"
   ]
  },
  {
   "cell_type": "code",
   "execution_count": 27,
   "metadata": {},
   "outputs": [
    {
     "data": {
      "image/png": "[encoded data removed]",
      "text/plain": [
       "<Figure size 432x288 with 1 Axes>"
      ]
     },
     "metadata": {
      "needs_background": "light"
     },
     "output_type": "display_data"
    },
    {
     "data": {
      "image/png": "[encoded data removed]",
      "text/plain": [
       "<Figure size 432x288 with 1 Axes>"
      ]
     },
     "metadata": {
      "needs_background": "light"
     },
     "output_type": "display_data"
    }
   ],
   "source": [
    "import matplotlib.pyplot as plt\n",
    "plt.plot(H.history['acc'])\n",
    "plt.plot(H.history['val_acc'])\n",
    "plt.title('model accuracy')\n",
    "plt.ylabel('accuracy')\n",
    "plt.xlabel('epoch')\n",
    "plt.legend(['train', 'test'], loc='upper left')\n",
    "plt.show()\n",
    "# summarize history for loss\n",
    "plt.plot(H.history['loss'])\n",
    "plt.plot(H.history['val_loss'])\n",
    "plt.title('model loss')\n",
    "plt.ylabel('loss')\n",
    "plt.xlabel('epoch')\n",
    "plt.legend(['train', 'test'], loc='upper left')\n",
    "plt.show()"
   ]
  },
  {
   "cell_type": "code",
   "execution_count": null,
   "metadata": {},
   "outputs": [],
   "source": []
  }
 ],
 "metadata": {
  "kernelspec": {
   "display_name": "Python 3",
   "language": "python",
   "name": "python3"
  },
  "language_info": {
   "codemirror_mode": {
    "name": "ipython",
    "version": 3
   },
   "file_extension": ".py",
   "mimetype": "text/x-python",
   "name": "python",
   "nbconvert_exporter": "python",
   "pygments_lexer": "ipython3",
   "version": "3.7.1"
  }
 },
 "nbformat": 4,
 "nbformat_minor": 2
}
